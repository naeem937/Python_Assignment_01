{
 "cells": [
  {
   "cell_type": "markdown",
   "metadata": {},
   "source": [
    "# ASSIGNMENT "
   ]
  },
  {
   "cell_type": "markdown",
   "metadata": {},
   "source": [
    "<h3> 1 : Declare and initialize a variable name total_marks with a value 500</h3>\n"
   ]
  },
  {
   "cell_type": "code",
   "execution_count": 1,
   "metadata": {},
   "outputs": [
    {
     "name": "stdout",
     "output_type": "stream",
     "text": [
      "Total Marks -> 500\n"
     ]
    }
   ],
   "source": [
    "Total_Marks = 500\n",
    "\n",
    "print(\"Total Marks ->\", Total_Marks) "
   ]
  },
  {
   "cell_type": "markdown",
   "metadata": {},
   "source": [
    "<h3> 2 : Declare and initialize 5 variables name maths , english , urdu , physics and chemisrty with different integer values</h3>"
   ]
  },
  {
   "cell_type": "code",
   "execution_count": 2,
   "metadata": {},
   "outputs": [],
   "source": [
    "Maths = 95\n",
    "English = 85\n",
    "Urdu = 70\n",
    "Physics = 80\n",
    "Chemistry = 75"
   ]
  },
  {
   "cell_type": "markdown",
   "metadata": {},
   "source": [
    "<h3>3 : Calculate the obtained marks And assign the value In variable name obtained_marks</h3>"
   ]
  },
  {
   "cell_type": "code",
   "execution_count": 3,
   "metadata": {},
   "outputs": [
    {
     "name": "stdout",
     "output_type": "stream",
     "text": [
      "Marks Obtained -> 405\n"
     ]
    }
   ],
   "source": [
    "Obtained_Marks = Maths + English + Urdu + Physics + Chemistry\n",
    "\n",
    "print(\"Marks Obtained ->\" , Obtained_Marks)"
   ]
  },
  {
   "cell_type": "markdown",
   "metadata": {},
   "source": [
    "<h3>4 : Calculate percentage and assign the value in variable name percentage</h3>"
   ]
  },
  {
   "cell_type": "code",
   "execution_count": 4,
   "metadata": {},
   "outputs": [
    {
     "name": "stdout",
     "output_type": "stream",
     "text": [
      "Percentage -> 81.0 %\n"
     ]
    }
   ],
   "source": [
    "Percentage = (Obtained_Marks/Total_Marks)*100\n",
    "\n",
    "print(\"Percentage ->\", Percentage,'%')"
   ]
  },
  {
   "cell_type": "markdown",
   "metadata": {},
   "source": [
    "<h3>5 : Declare and initialize an empty variable name grade </h3>"
   ]
  },
  {
   "cell_type": "code",
   "execution_count": 5,
   "metadata": {},
   "outputs": [],
   "source": [
    "Grade = None"
   ]
  },
  {
   "cell_type": "markdown",
   "metadata": {},
   "source": [
    "### 6: print your biodata "
   ]
  },
  {
   "cell_type": "code",
   "execution_count": 6,
   "metadata": {},
   "outputs": [
    {
     "name": "stdout",
     "output_type": "stream",
     "text": [
      "Name: Muhammad Naeem Ahmed\n",
      "Gender: Male\n",
      "Religion: Islam\n",
      "Nationality: Pakistani\n",
      "Residence: Karachi,Pakistan\n",
      "Maritial Status: Single\n"
     ]
    }
   ],
   "source": [
    "print(\"Name: Muhammad Naeem Ahmed\")\n",
    "print(\"Gender: Male\")\n",
    "print(\"Religion: Islam\")\n",
    "print(\"Nationality: Pakistani\")\n",
    "print(\"Residence: Karachi,Pakistan\")\n",
    "print(\"Maritial Status: Single\")\n",
    "\n",
    "#This Can Also Be Done Using Single Print Statement With New Line(\\n)"
   ]
  }
 ],
 "metadata": {
  "kernelspec": {
   "display_name": "Python 3",
   "language": "python",
   "name": "python3"
  },
  "language_info": {
   "codemirror_mode": {
    "name": "ipython",
    "version": 3
   },
   "file_extension": ".py",
   "mimetype": "text/x-python",
   "name": "python",
   "nbconvert_exporter": "python",
   "pygments_lexer": "ipython3",
   "version": "3.7.3"
  }
 },
 "nbformat": 4,
 "nbformat_minor": 2
}
